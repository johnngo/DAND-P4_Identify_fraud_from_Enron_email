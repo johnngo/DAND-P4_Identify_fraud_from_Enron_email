{
 "cells": [
  {
   "cell_type": "markdown",
   "metadata": {},
   "source": [
    "# Identify Fraud from Enron Dataset\n",
    "\n",
    "#### December 13 2017\n",
    "\n",
    "### John Ngo"
   ]
  },
  {
   "cell_type": "code",
   "execution_count": 1,
   "metadata": {
    "collapsed": true
   },
   "outputs": [],
   "source": [
    "# read in dataset and explore\n",
    "# Import all required libraries to support our analysis\n"
   ]
  },
  {
   "cell_type": "code",
   "execution_count": 2,
   "metadata": {},
   "outputs": [
    {
     "name": "stdout",
     "output_type": "stream",
     "text": [
      "Populating the interactive namespace from numpy and matplotlib\n"
     ]
    },
    {
     "name": "stderr",
     "output_type": "stream",
     "text": [
      "/Users/johnngo/anaconda/envs/py2/lib/python2.7/site-packages/sklearn/cross_validation.py:41: DeprecationWarning: This module was deprecated in version 0.18 in favor of the model_selection module into which all the refactored classes and functions are moved. Also note that the interface of the new CV iterators are different from that of this module. This module will be removed in 0.20.\n",
      "  \"This module will be removed in 0.20.\", DeprecationWarning)\n"
     ]
    }
   ],
   "source": [
    "#!/usr/bin/python\n",
    "\n",
    "# Import libraries\n",
    "\n",
    "import sys\n",
    "import pickle\n",
    "import numpy as np\n",
    "import pandas as pd\n",
    "\n",
    "%pylab inline\n",
    "import matplotlib.pyplot as plt\n",
    "import seaborn as sns\n",
    "import warnings\n",
    "warnings.filterwarnings('ignore') \n",
    "\n",
    "sys.path.append(\"../tools/\")\n",
    "\n",
    "# Import data formating functions from other files\n",
    "# features_format in the tools directory\n",
    "\n",
    "from feature_format import featureFormat, targetFeatureSplit\n",
    "\n",
    "# in the final_project directory, tester file\n",
    "\n",
    "from tester import dump_classifier_and_data"
   ]
  },
  {
   "cell_type": "code",
   "execution_count": 3,
   "metadata": {
    "collapsed": true
   },
   "outputs": [],
   "source": [
    "    with open(\"final_project_dataset.pkl\", \"r\") as data_file:\n",
    "         enronData = pickle.load(data_file)"
   ]
  },
  {
   "cell_type": "code",
   "execution_count": 4,
   "metadata": {
    "collapsed": true
   },
   "outputs": [],
   "source": [
    "# print enronData"
   ]
  },
  {
   "cell_type": "markdown",
   "metadata": {},
   "source": [
    "Printing enronData gave us an overview of the data we are working with."
   ]
  },
  {
   "cell_type": "code",
   "execution_count": 5,
   "metadata": {},
   "outputs": [
    {
     "name": "stdout",
     "output_type": "stream",
     "text": [
      "146\n"
     ]
    }
   ],
   "source": [
    "# display the number of unique keys in the dataset\n",
    "\n",
    "print len(enronData)"
   ]
  },
  {
   "cell_type": "code",
   "execution_count": 6,
   "metadata": {
    "collapsed": true
   },
   "outputs": [],
   "source": [
    "# display the list of the individual keys\n",
    "\n",
    "# print enronData.keys()"
   ]
  },
  {
   "cell_type": "markdown",
   "metadata": {},
   "source": [
    "Print enronData.keys() displays the key names of the individual that was part of the Enron organization."
   ]
  },
  {
   "cell_type": "code",
   "execution_count": 7,
   "metadata": {},
   "outputs": [
    {
     "name": "stdout",
     "output_type": "stream",
     "text": [
      "21\n",
      "{'salary': 1072321, 'to_messages': 4273, 'deferral_payments': 202911, 'total_payments': 103559793, 'exercised_stock_options': 34348384, 'bonus': 7000000, 'restricted_stock': 14761694, 'shared_receipt_with_poi': 2411, 'restricted_stock_deferred': 'NaN', 'total_stock_value': 49110078, 'expenses': 99832, 'loan_advances': 81525000, 'from_messages': 36, 'other': 10359729, 'from_this_person_to_poi': 16, 'poi': True, 'director_fees': 'NaN', 'deferred_income': -300000, 'long_term_incentive': 3600000, 'email_address': 'kenneth.lay@enron.com', 'from_poi_to_this_person': 123}\n"
     ]
    }
   ],
   "source": [
    "# Select one of the unique keys and drill down and find the features associated with the unique keys\n",
    "\n",
    "print len(enronData[\"LAY KENNETH L\"])\n",
    "print enronData[\"LAY KENNETH L\"]"
   ]
  },
  {
   "cell_type": "code",
   "execution_count": 8,
   "metadata": {
    "collapsed": true
   },
   "outputs": [],
   "source": [
    "# Looking at corresponding values of the features inside of the unique keys\n",
    "\n",
    "# enronData.values()"
   ]
  },
  {
   "cell_type": "code",
   "execution_count": 9,
   "metadata": {
    "collapsed": true
   },
   "outputs": [],
   "source": [
    "# convert dictionary to dataframe\n",
    "\n",
    "df = pd.DataFrame.from_dict(enronData, orient = 'index')\n",
    "# print df"
   ]
  },
  {
   "cell_type": "code",
   "execution_count": 10,
   "metadata": {},
   "outputs": [
    {
     "name": "stdout",
     "output_type": "stream",
     "text": [
      "<class 'pandas.core.frame.DataFrame'>\n",
      "Index: 146 entries, ALLEN PHILLIP K to YEAP SOON\n",
      "Data columns (total 21 columns):\n",
      "salary                       95 non-null float64\n",
      "to_messages                  86 non-null float64\n",
      "deferral_payments            39 non-null float64\n",
      "total_payments               125 non-null float64\n",
      "exercised_stock_options      102 non-null float64\n",
      "bonus                        82 non-null float64\n",
      "restricted_stock             110 non-null float64\n",
      "shared_receipt_with_poi      86 non-null float64\n",
      "restricted_stock_deferred    18 non-null float64\n",
      "total_stock_value            126 non-null float64\n",
      "expenses                     95 non-null float64\n",
      "loan_advances                4 non-null float64\n",
      "from_messages                86 non-null float64\n",
      "other                        93 non-null float64\n",
      "from_this_person_to_poi      86 non-null float64\n",
      "poi                          146 non-null bool\n",
      "director_fees                17 non-null float64\n",
      "deferred_income              49 non-null float64\n",
      "long_term_incentive          66 non-null float64\n",
      "email_address                111 non-null object\n",
      "from_poi_to_this_person      86 non-null float64\n",
      "dtypes: bool(1), float64(19), object(1)\n",
      "memory usage: 24.1+ KB\n",
      "Total NaN: 1358 (44.29%)\n",
      "\n",
      "Total not-null data points: 1708\n"
     ]
    }
   ],
   "source": [
    "# dataframa information\n",
    "df = df.replace(\"NaN\", np.nan)\n",
    "df.info()\n",
    "\n",
    "# count the values of the features and summing it up\n",
    "count = sum(df.count())\n",
    "count_nan = df.isnull().sum().sum()\n",
    "\n",
    "print 'Total NaN: {} ({:.2%})'.format(count_nan, float(count_nan)/float(count+count_nan))\n",
    "print \"\\nTotal not-null data points:\", count"
   ]
  },
  {
   "cell_type": "markdown",
   "metadata": {},
   "source": [
    "Based on our observation, as we notice total NaN for 1358(44.29%). We should not be using  loan_advances, director_fees, restricted_stock_deferred for the analysis since these features are not defined for the majority of entries."
   ]
  },
  {
   "cell_type": "code",
   "execution_count": 11,
   "metadata": {
    "collapsed": true
   },
   "outputs": [],
   "source": [
    "# tallying up the values associated with the features\n",
    "\n",
    "#df['bonus'].value_counts()"
   ]
  },
  {
   "cell_type": "code",
   "execution_count": 12,
   "metadata": {
    "collapsed": true,
    "scrolled": true
   },
   "outputs": [],
   "source": [
    "# finding out what type our features data belong to\n",
    "\n",
    "# df.dtypes"
   ]
  },
  {
   "cell_type": "code",
   "execution_count": 13,
   "metadata": {},
   "outputs": [
    {
     "data": {
      "text/html": [
       "<div>\n",
       "<style>\n",
       "    .dataframe thead tr:only-child th {\n",
       "        text-align: right;\n",
       "    }\n",
       "\n",
       "    .dataframe thead th {\n",
       "        text-align: left;\n",
       "    }\n",
       "\n",
       "    .dataframe tbody tr th {\n",
       "        vertical-align: top;\n",
       "    }\n",
       "</style>\n",
       "<table border=\"1\" class=\"dataframe\">\n",
       "  <thead>\n",
       "    <tr style=\"text-align: right;\">\n",
       "      <th></th>\n",
       "      <th>salary</th>\n",
       "      <th>to_messages</th>\n",
       "      <th>deferral_payments</th>\n",
       "      <th>total_payments</th>\n",
       "      <th>exercised_stock_options</th>\n",
       "      <th>bonus</th>\n",
       "      <th>restricted_stock</th>\n",
       "      <th>shared_receipt_with_poi</th>\n",
       "      <th>restricted_stock_deferred</th>\n",
       "      <th>total_stock_value</th>\n",
       "      <th>expenses</th>\n",
       "      <th>loan_advances</th>\n",
       "      <th>from_messages</th>\n",
       "      <th>other</th>\n",
       "      <th>from_this_person_to_poi</th>\n",
       "      <th>director_fees</th>\n",
       "      <th>deferred_income</th>\n",
       "      <th>long_term_incentive</th>\n",
       "      <th>from_poi_to_this_person</th>\n",
       "    </tr>\n",
       "  </thead>\n",
       "  <tbody>\n",
       "    <tr>\n",
       "      <th>count</th>\n",
       "      <td>9.500000e+01</td>\n",
       "      <td>86.000000</td>\n",
       "      <td>3.900000e+01</td>\n",
       "      <td>1.250000e+02</td>\n",
       "      <td>1.020000e+02</td>\n",
       "      <td>8.200000e+01</td>\n",
       "      <td>1.100000e+02</td>\n",
       "      <td>86.000000</td>\n",
       "      <td>1.800000e+01</td>\n",
       "      <td>1.260000e+02</td>\n",
       "      <td>9.500000e+01</td>\n",
       "      <td>4.000000e+00</td>\n",
       "      <td>86.000000</td>\n",
       "      <td>9.300000e+01</td>\n",
       "      <td>86.000000</td>\n",
       "      <td>1.700000e+01</td>\n",
       "      <td>4.900000e+01</td>\n",
       "      <td>6.600000e+01</td>\n",
       "      <td>86.000000</td>\n",
       "    </tr>\n",
       "    <tr>\n",
       "      <th>mean</th>\n",
       "      <td>5.621943e+05</td>\n",
       "      <td>2073.860465</td>\n",
       "      <td>1.642674e+06</td>\n",
       "      <td>5.081526e+06</td>\n",
       "      <td>5.987054e+06</td>\n",
       "      <td>2.374235e+06</td>\n",
       "      <td>2.321741e+06</td>\n",
       "      <td>1176.465116</td>\n",
       "      <td>1.664106e+05</td>\n",
       "      <td>6.773957e+06</td>\n",
       "      <td>1.087289e+05</td>\n",
       "      <td>4.196250e+07</td>\n",
       "      <td>608.790698</td>\n",
       "      <td>9.190650e+05</td>\n",
       "      <td>41.232558</td>\n",
       "      <td>1.668049e+05</td>\n",
       "      <td>-1.140475e+06</td>\n",
       "      <td>1.470361e+06</td>\n",
       "      <td>64.895349</td>\n",
       "    </tr>\n",
       "    <tr>\n",
       "      <th>std</th>\n",
       "      <td>2.716369e+06</td>\n",
       "      <td>2582.700981</td>\n",
       "      <td>5.161930e+06</td>\n",
       "      <td>2.906172e+07</td>\n",
       "      <td>3.106201e+07</td>\n",
       "      <td>1.071333e+07</td>\n",
       "      <td>1.251828e+07</td>\n",
       "      <td>1178.317641</td>\n",
       "      <td>4.201494e+06</td>\n",
       "      <td>3.895777e+07</td>\n",
       "      <td>5.335348e+05</td>\n",
       "      <td>4.708321e+07</td>\n",
       "      <td>1841.033949</td>\n",
       "      <td>4.589253e+06</td>\n",
       "      <td>100.073111</td>\n",
       "      <td>3.198914e+05</td>\n",
       "      <td>4.025406e+06</td>\n",
       "      <td>5.942759e+06</td>\n",
       "      <td>86.979244</td>\n",
       "    </tr>\n",
       "    <tr>\n",
       "      <th>min</th>\n",
       "      <td>4.770000e+02</td>\n",
       "      <td>57.000000</td>\n",
       "      <td>-1.025000e+05</td>\n",
       "      <td>1.480000e+02</td>\n",
       "      <td>3.285000e+03</td>\n",
       "      <td>7.000000e+04</td>\n",
       "      <td>-2.604490e+06</td>\n",
       "      <td>2.000000</td>\n",
       "      <td>-7.576788e+06</td>\n",
       "      <td>-4.409300e+04</td>\n",
       "      <td>1.480000e+02</td>\n",
       "      <td>4.000000e+05</td>\n",
       "      <td>12.000000</td>\n",
       "      <td>2.000000e+00</td>\n",
       "      <td>0.000000</td>\n",
       "      <td>3.285000e+03</td>\n",
       "      <td>-2.799289e+07</td>\n",
       "      <td>6.922300e+04</td>\n",
       "      <td>0.000000</td>\n",
       "    </tr>\n",
       "    <tr>\n",
       "      <th>25%</th>\n",
       "      <td>2.118160e+05</td>\n",
       "      <td>541.250000</td>\n",
       "      <td>8.157300e+04</td>\n",
       "      <td>3.944750e+05</td>\n",
       "      <td>5.278862e+05</td>\n",
       "      <td>4.312500e+05</td>\n",
       "      <td>2.540180e+05</td>\n",
       "      <td>249.750000</td>\n",
       "      <td>-3.896218e+05</td>\n",
       "      <td>4.945102e+05</td>\n",
       "      <td>2.261400e+04</td>\n",
       "      <td>1.600000e+06</td>\n",
       "      <td>22.750000</td>\n",
       "      <td>1.215000e+03</td>\n",
       "      <td>1.000000</td>\n",
       "      <td>9.878400e+04</td>\n",
       "      <td>-6.948620e+05</td>\n",
       "      <td>2.812500e+05</td>\n",
       "      <td>10.000000</td>\n",
       "    </tr>\n",
       "    <tr>\n",
       "      <th>50%</th>\n",
       "      <td>2.599960e+05</td>\n",
       "      <td>1211.000000</td>\n",
       "      <td>2.274490e+05</td>\n",
       "      <td>1.101393e+06</td>\n",
       "      <td>1.310814e+06</td>\n",
       "      <td>7.693750e+05</td>\n",
       "      <td>4.517400e+05</td>\n",
       "      <td>740.500000</td>\n",
       "      <td>-1.469750e+05</td>\n",
       "      <td>1.102872e+06</td>\n",
       "      <td>4.695000e+04</td>\n",
       "      <td>4.176250e+07</td>\n",
       "      <td>41.000000</td>\n",
       "      <td>5.238200e+04</td>\n",
       "      <td>8.000000</td>\n",
       "      <td>1.085790e+05</td>\n",
       "      <td>-1.597920e+05</td>\n",
       "      <td>4.420350e+05</td>\n",
       "      <td>35.000000</td>\n",
       "    </tr>\n",
       "    <tr>\n",
       "      <th>75%</th>\n",
       "      <td>3.121170e+05</td>\n",
       "      <td>2634.750000</td>\n",
       "      <td>1.002672e+06</td>\n",
       "      <td>2.093263e+06</td>\n",
       "      <td>2.547724e+06</td>\n",
       "      <td>1.200000e+06</td>\n",
       "      <td>1.002370e+06</td>\n",
       "      <td>1888.250000</td>\n",
       "      <td>-7.500975e+04</td>\n",
       "      <td>2.949847e+06</td>\n",
       "      <td>7.995250e+04</td>\n",
       "      <td>8.212500e+07</td>\n",
       "      <td>145.500000</td>\n",
       "      <td>3.620960e+05</td>\n",
       "      <td>24.750000</td>\n",
       "      <td>1.137840e+05</td>\n",
       "      <td>-3.834600e+04</td>\n",
       "      <td>9.386720e+05</td>\n",
       "      <td>72.250000</td>\n",
       "    </tr>\n",
       "    <tr>\n",
       "      <th>max</th>\n",
       "      <td>2.670423e+07</td>\n",
       "      <td>15149.000000</td>\n",
       "      <td>3.208340e+07</td>\n",
       "      <td>3.098866e+08</td>\n",
       "      <td>3.117640e+08</td>\n",
       "      <td>9.734362e+07</td>\n",
       "      <td>1.303223e+08</td>\n",
       "      <td>5521.000000</td>\n",
       "      <td>1.545629e+07</td>\n",
       "      <td>4.345095e+08</td>\n",
       "      <td>5.235198e+06</td>\n",
       "      <td>8.392500e+07</td>\n",
       "      <td>14368.000000</td>\n",
       "      <td>4.266759e+07</td>\n",
       "      <td>609.000000</td>\n",
       "      <td>1.398517e+06</td>\n",
       "      <td>-8.330000e+02</td>\n",
       "      <td>4.852193e+07</td>\n",
       "      <td>528.000000</td>\n",
       "    </tr>\n",
       "  </tbody>\n",
       "</table>\n",
       "</div>"
      ],
      "text/plain": [
       "             salary   to_messages  deferral_payments  total_payments  \\\n",
       "count  9.500000e+01     86.000000       3.900000e+01    1.250000e+02   \n",
       "mean   5.621943e+05   2073.860465       1.642674e+06    5.081526e+06   \n",
       "std    2.716369e+06   2582.700981       5.161930e+06    2.906172e+07   \n",
       "min    4.770000e+02     57.000000      -1.025000e+05    1.480000e+02   \n",
       "25%    2.118160e+05    541.250000       8.157300e+04    3.944750e+05   \n",
       "50%    2.599960e+05   1211.000000       2.274490e+05    1.101393e+06   \n",
       "75%    3.121170e+05   2634.750000       1.002672e+06    2.093263e+06   \n",
       "max    2.670423e+07  15149.000000       3.208340e+07    3.098866e+08   \n",
       "\n",
       "       exercised_stock_options         bonus  restricted_stock  \\\n",
       "count             1.020000e+02  8.200000e+01      1.100000e+02   \n",
       "mean              5.987054e+06  2.374235e+06      2.321741e+06   \n",
       "std               3.106201e+07  1.071333e+07      1.251828e+07   \n",
       "min               3.285000e+03  7.000000e+04     -2.604490e+06   \n",
       "25%               5.278862e+05  4.312500e+05      2.540180e+05   \n",
       "50%               1.310814e+06  7.693750e+05      4.517400e+05   \n",
       "75%               2.547724e+06  1.200000e+06      1.002370e+06   \n",
       "max               3.117640e+08  9.734362e+07      1.303223e+08   \n",
       "\n",
       "       shared_receipt_with_poi  restricted_stock_deferred  total_stock_value  \\\n",
       "count                86.000000               1.800000e+01       1.260000e+02   \n",
       "mean               1176.465116               1.664106e+05       6.773957e+06   \n",
       "std                1178.317641               4.201494e+06       3.895777e+07   \n",
       "min                   2.000000              -7.576788e+06      -4.409300e+04   \n",
       "25%                 249.750000              -3.896218e+05       4.945102e+05   \n",
       "50%                 740.500000              -1.469750e+05       1.102872e+06   \n",
       "75%                1888.250000              -7.500975e+04       2.949847e+06   \n",
       "max                5521.000000               1.545629e+07       4.345095e+08   \n",
       "\n",
       "           expenses  loan_advances  from_messages         other  \\\n",
       "count  9.500000e+01   4.000000e+00      86.000000  9.300000e+01   \n",
       "mean   1.087289e+05   4.196250e+07     608.790698  9.190650e+05   \n",
       "std    5.335348e+05   4.708321e+07    1841.033949  4.589253e+06   \n",
       "min    1.480000e+02   4.000000e+05      12.000000  2.000000e+00   \n",
       "25%    2.261400e+04   1.600000e+06      22.750000  1.215000e+03   \n",
       "50%    4.695000e+04   4.176250e+07      41.000000  5.238200e+04   \n",
       "75%    7.995250e+04   8.212500e+07     145.500000  3.620960e+05   \n",
       "max    5.235198e+06   8.392500e+07   14368.000000  4.266759e+07   \n",
       "\n",
       "       from_this_person_to_poi  director_fees  deferred_income  \\\n",
       "count                86.000000   1.700000e+01     4.900000e+01   \n",
       "mean                 41.232558   1.668049e+05    -1.140475e+06   \n",
       "std                 100.073111   3.198914e+05     4.025406e+06   \n",
       "min                   0.000000   3.285000e+03    -2.799289e+07   \n",
       "25%                   1.000000   9.878400e+04    -6.948620e+05   \n",
       "50%                   8.000000   1.085790e+05    -1.597920e+05   \n",
       "75%                  24.750000   1.137840e+05    -3.834600e+04   \n",
       "max                 609.000000   1.398517e+06    -8.330000e+02   \n",
       "\n",
       "       long_term_incentive  from_poi_to_this_person  \n",
       "count         6.600000e+01                86.000000  \n",
       "mean          1.470361e+06                64.895349  \n",
       "std           5.942759e+06                86.979244  \n",
       "min           6.922300e+04                 0.000000  \n",
       "25%           2.812500e+05                10.000000  \n",
       "50%           4.420350e+05                35.000000  \n",
       "75%           9.386720e+05                72.250000  \n",
       "max           4.852193e+07               528.000000  "
      ]
     },
     "execution_count": 13,
     "metadata": {},
     "output_type": "execute_result"
    }
   ],
   "source": [
    "# looking at the list of features from the dataframe perspective\n",
    "\n",
    "df.describe()"
   ]
  },
  {
   "cell_type": "code",
   "execution_count": 14,
   "metadata": {},
   "outputs": [
    {
     "name": "stdout",
     "output_type": "stream",
     "text": [
      "['salary', 'to_messages', 'deferral_payments', 'total_payments', 'exercised_stock_options', 'bonus', 'restricted_stock', 'shared_receipt_with_poi', 'restricted_stock_deferred', 'total_stock_value', 'expenses', 'loan_advances', 'from_messages', 'other', 'from_this_person_to_poi', 'poi', 'director_fees', 'deferred_income', 'long_term_incentive', 'email_address', 'from_poi_to_this_person']\n",
      "21\n"
     ]
    }
   ],
   "source": [
    "# checking out features list\n",
    "\n",
    "features = list(df.keys())\n",
    "print features\n",
    "print len(features)"
   ]
  },
  {
   "cell_type": "code",
   "execution_count": 15,
   "metadata": {},
   "outputs": [
    {
     "data": {
      "text/html": [
       "<div>\n",
       "<style>\n",
       "    .dataframe thead tr:only-child th {\n",
       "        text-align: right;\n",
       "    }\n",
       "\n",
       "    .dataframe thead th {\n",
       "        text-align: left;\n",
       "    }\n",
       "\n",
       "    .dataframe tbody tr th {\n",
       "        vertical-align: top;\n",
       "    }\n",
       "</style>\n",
       "<table border=\"1\" class=\"dataframe\">\n",
       "  <thead>\n",
       "    <tr style=\"text-align: right;\">\n",
       "      <th></th>\n",
       "      <th>salary</th>\n",
       "      <th>to_messages</th>\n",
       "      <th>deferral_payments</th>\n",
       "      <th>total_payments</th>\n",
       "      <th>exercised_stock_options</th>\n",
       "      <th>bonus</th>\n",
       "      <th>restricted_stock</th>\n",
       "      <th>shared_receipt_with_poi</th>\n",
       "      <th>restricted_stock_deferred</th>\n",
       "      <th>total_stock_value</th>\n",
       "      <th>...</th>\n",
       "      <th>loan_advances</th>\n",
       "      <th>from_messages</th>\n",
       "      <th>other</th>\n",
       "      <th>from_this_person_to_poi</th>\n",
       "      <th>poi</th>\n",
       "      <th>director_fees</th>\n",
       "      <th>deferred_income</th>\n",
       "      <th>long_term_incentive</th>\n",
       "      <th>email_address</th>\n",
       "      <th>from_poi_to_this_person</th>\n",
       "    </tr>\n",
       "  </thead>\n",
       "  <tbody>\n",
       "    <tr>\n",
       "      <th>ALLEN PHILLIP K</th>\n",
       "      <td>201955.0</td>\n",
       "      <td>2902.0</td>\n",
       "      <td>2869717.0</td>\n",
       "      <td>4484442.0</td>\n",
       "      <td>1729541.0</td>\n",
       "      <td>4175000.0</td>\n",
       "      <td>126027.0</td>\n",
       "      <td>1407.0</td>\n",
       "      <td>-126027.0</td>\n",
       "      <td>1729541.0</td>\n",
       "      <td>...</td>\n",
       "      <td>NaN</td>\n",
       "      <td>2195.0</td>\n",
       "      <td>152.0</td>\n",
       "      <td>65.0</td>\n",
       "      <td>False</td>\n",
       "      <td>NaN</td>\n",
       "      <td>-3081055.0</td>\n",
       "      <td>304805.0</td>\n",
       "      <td>phillip.allen@enron.com</td>\n",
       "      <td>47.0</td>\n",
       "    </tr>\n",
       "    <tr>\n",
       "      <th>BADUM JAMES P</th>\n",
       "      <td>NaN</td>\n",
       "      <td>NaN</td>\n",
       "      <td>178980.0</td>\n",
       "      <td>182466.0</td>\n",
       "      <td>257817.0</td>\n",
       "      <td>NaN</td>\n",
       "      <td>NaN</td>\n",
       "      <td>NaN</td>\n",
       "      <td>NaN</td>\n",
       "      <td>257817.0</td>\n",
       "      <td>...</td>\n",
       "      <td>NaN</td>\n",
       "      <td>NaN</td>\n",
       "      <td>NaN</td>\n",
       "      <td>NaN</td>\n",
       "      <td>False</td>\n",
       "      <td>NaN</td>\n",
       "      <td>NaN</td>\n",
       "      <td>NaN</td>\n",
       "      <td>NaN</td>\n",
       "      <td>NaN</td>\n",
       "    </tr>\n",
       "    <tr>\n",
       "      <th>BANNANTINE JAMES M</th>\n",
       "      <td>477.0</td>\n",
       "      <td>566.0</td>\n",
       "      <td>NaN</td>\n",
       "      <td>916197.0</td>\n",
       "      <td>4046157.0</td>\n",
       "      <td>NaN</td>\n",
       "      <td>1757552.0</td>\n",
       "      <td>465.0</td>\n",
       "      <td>-560222.0</td>\n",
       "      <td>5243487.0</td>\n",
       "      <td>...</td>\n",
       "      <td>NaN</td>\n",
       "      <td>29.0</td>\n",
       "      <td>864523.0</td>\n",
       "      <td>0.0</td>\n",
       "      <td>False</td>\n",
       "      <td>NaN</td>\n",
       "      <td>-5104.0</td>\n",
       "      <td>NaN</td>\n",
       "      <td>james.bannantine@enron.com</td>\n",
       "      <td>39.0</td>\n",
       "    </tr>\n",
       "    <tr>\n",
       "      <th>BAXTER JOHN C</th>\n",
       "      <td>267102.0</td>\n",
       "      <td>NaN</td>\n",
       "      <td>1295738.0</td>\n",
       "      <td>5634343.0</td>\n",
       "      <td>6680544.0</td>\n",
       "      <td>1200000.0</td>\n",
       "      <td>3942714.0</td>\n",
       "      <td>NaN</td>\n",
       "      <td>NaN</td>\n",
       "      <td>10623258.0</td>\n",
       "      <td>...</td>\n",
       "      <td>NaN</td>\n",
       "      <td>NaN</td>\n",
       "      <td>2660303.0</td>\n",
       "      <td>NaN</td>\n",
       "      <td>False</td>\n",
       "      <td>NaN</td>\n",
       "      <td>-1386055.0</td>\n",
       "      <td>1586055.0</td>\n",
       "      <td>NaN</td>\n",
       "      <td>NaN</td>\n",
       "    </tr>\n",
       "    <tr>\n",
       "      <th>BAY FRANKLIN R</th>\n",
       "      <td>239671.0</td>\n",
       "      <td>NaN</td>\n",
       "      <td>260455.0</td>\n",
       "      <td>827696.0</td>\n",
       "      <td>NaN</td>\n",
       "      <td>400000.0</td>\n",
       "      <td>145796.0</td>\n",
       "      <td>NaN</td>\n",
       "      <td>-82782.0</td>\n",
       "      <td>63014.0</td>\n",
       "      <td>...</td>\n",
       "      <td>NaN</td>\n",
       "      <td>NaN</td>\n",
       "      <td>69.0</td>\n",
       "      <td>NaN</td>\n",
       "      <td>False</td>\n",
       "      <td>NaN</td>\n",
       "      <td>-201641.0</td>\n",
       "      <td>NaN</td>\n",
       "      <td>frank.bay@enron.com</td>\n",
       "      <td>NaN</td>\n",
       "    </tr>\n",
       "  </tbody>\n",
       "</table>\n",
       "<p>5 rows × 21 columns</p>\n",
       "</div>"
      ],
      "text/plain": [
       "                      salary  to_messages  deferral_payments  total_payments  \\\n",
       "ALLEN PHILLIP K     201955.0       2902.0          2869717.0       4484442.0   \n",
       "BADUM JAMES P            NaN          NaN           178980.0        182466.0   \n",
       "BANNANTINE JAMES M     477.0        566.0                NaN        916197.0   \n",
       "BAXTER JOHN C       267102.0          NaN          1295738.0       5634343.0   \n",
       "BAY FRANKLIN R      239671.0          NaN           260455.0        827696.0   \n",
       "\n",
       "                    exercised_stock_options      bonus  restricted_stock  \\\n",
       "ALLEN PHILLIP K                   1729541.0  4175000.0          126027.0   \n",
       "BADUM JAMES P                      257817.0        NaN               NaN   \n",
       "BANNANTINE JAMES M                4046157.0        NaN         1757552.0   \n",
       "BAXTER JOHN C                     6680544.0  1200000.0         3942714.0   \n",
       "BAY FRANKLIN R                          NaN   400000.0          145796.0   \n",
       "\n",
       "                    shared_receipt_with_poi  restricted_stock_deferred  \\\n",
       "ALLEN PHILLIP K                      1407.0                  -126027.0   \n",
       "BADUM JAMES P                           NaN                        NaN   \n",
       "BANNANTINE JAMES M                    465.0                  -560222.0   \n",
       "BAXTER JOHN C                           NaN                        NaN   \n",
       "BAY FRANKLIN R                          NaN                   -82782.0   \n",
       "\n",
       "                    total_stock_value           ...            loan_advances  \\\n",
       "ALLEN PHILLIP K             1729541.0           ...                      NaN   \n",
       "BADUM JAMES P                257817.0           ...                      NaN   \n",
       "BANNANTINE JAMES M          5243487.0           ...                      NaN   \n",
       "BAXTER JOHN C              10623258.0           ...                      NaN   \n",
       "BAY FRANKLIN R                63014.0           ...                      NaN   \n",
       "\n",
       "                    from_messages      other  from_this_person_to_poi    poi  \\\n",
       "ALLEN PHILLIP K            2195.0      152.0                     65.0  False   \n",
       "BADUM JAMES P                 NaN        NaN                      NaN  False   \n",
       "BANNANTINE JAMES M           29.0   864523.0                      0.0  False   \n",
       "BAXTER JOHN C                 NaN  2660303.0                      NaN  False   \n",
       "BAY FRANKLIN R                NaN       69.0                      NaN  False   \n",
       "\n",
       "                    director_fees  deferred_income  long_term_incentive  \\\n",
       "ALLEN PHILLIP K               NaN       -3081055.0             304805.0   \n",
       "BADUM JAMES P                 NaN              NaN                  NaN   \n",
       "BANNANTINE JAMES M            NaN          -5104.0                  NaN   \n",
       "BAXTER JOHN C                 NaN       -1386055.0            1586055.0   \n",
       "BAY FRANKLIN R                NaN        -201641.0                  NaN   \n",
       "\n",
       "                                 email_address from_poi_to_this_person  \n",
       "ALLEN PHILLIP K        phillip.allen@enron.com                    47.0  \n",
       "BADUM JAMES P                              NaN                     NaN  \n",
       "BANNANTINE JAMES M  james.bannantine@enron.com                    39.0  \n",
       "BAXTER JOHN C                              NaN                     NaN  \n",
       "BAY FRANKLIN R             frank.bay@enron.com                     NaN  \n",
       "\n",
       "[5 rows x 21 columns]"
      ]
     },
     "execution_count": 15,
     "metadata": {},
     "output_type": "execute_result"
    }
   ],
   "source": [
    "df.head()"
   ]
  },
  {
   "cell_type": "code",
   "execution_count": 16,
   "metadata": {},
   "outputs": [
    {
     "name": "stdout",
     "output_type": "stream",
     "text": [
      "Persons of interest Count:\n",
      "False    128\n",
      "True      18\n",
      "Name: poi, dtype: int64\n",
      "\n",
      "\n",
      "Persons of interest Fraction:\n",
      "False    0.876712\n",
      "True     0.123288\n",
      "Name: poi, dtype: float64\n"
     ]
    }
   ],
   "source": [
    "\n",
    "# Determine the split between POIs / non POIs\n",
    "\n",
    "print \"Persons of interest Count:\"\n",
    "print df['poi'].value_counts()\n",
    "\n",
    "print '\\n'\n",
    "print \"Persons of interest Fraction:\"\n",
    "print df['poi'].value_counts(1)"
   ]
  },
  {
   "cell_type": "markdown",
   "metadata": {},
   "source": []
  },
  {
   "cell_type": "markdown",
   "metadata": {
    "collapsed": true
   },
   "source": [
    "# Outlier Analysis\n",
    "\n",
    "It's important to check for outliers in the dataset. We will plot the total payment vs total stock value as they are the total of the financial features.\n",
    "\n",
    "\n"
   ]
  },
  {
   "cell_type": "code",
   "execution_count": 17,
   "metadata": {
    "collapsed": true
   },
   "outputs": [],
   "source": [
    "# print df.total_payments"
   ]
  },
  {
   "cell_type": "code",
   "execution_count": 18,
   "metadata": {
    "collapsed": true
   },
   "outputs": [],
   "source": [
    "# df.total_stock_value"
   ]
  },
  {
   "cell_type": "code",
   "execution_count": 19,
   "metadata": {
    "collapsed": true
   },
   "outputs": [],
   "source": [
    "# Converting our 'NaN' into 0 to convert to integer data\n",
    "\n",
    "df.replace('NaN', 0, inplace = True)"
   ]
  },
  {
   "cell_type": "code",
   "execution_count": 20,
   "metadata": {},
   "outputs": [
    {
     "data": {
      "text/plain": [
       "salary                       float64\n",
       "to_messages                  float64\n",
       "deferral_payments            float64\n",
       "total_payments               float64\n",
       "exercised_stock_options      float64\n",
       "bonus                        float64\n",
       "restricted_stock             float64\n",
       "shared_receipt_with_poi      float64\n",
       "restricted_stock_deferred    float64\n",
       "total_stock_value            float64\n",
       "expenses                     float64\n",
       "loan_advances                float64\n",
       "from_messages                float64\n",
       "other                        float64\n",
       "from_this_person_to_poi      float64\n",
       "poi                             bool\n",
       "director_fees                float64\n",
       "deferred_income              float64\n",
       "long_term_incentive          float64\n",
       "email_address                 object\n",
       "from_poi_to_this_person      float64\n",
       "dtype: object"
      ]
     },
     "execution_count": 20,
     "metadata": {},
     "output_type": "execute_result"
    }
   ],
   "source": [
    "df.dtypes"
   ]
  },
  {
   "cell_type": "code",
   "execution_count": 21,
   "metadata": {},
   "outputs": [
    {
     "data": {
      "text/plain": [
       "<seaborn.axisgrid.FacetGrid at 0x116f99090>"
      ]
     },
     "execution_count": 21,
     "metadata": {},
     "output_type": "execute_result"
    },
    {
     "data": {
      "image/png": "[encoded data removed]",
      "text/plain": [
       "<matplotlib.figure.Figure at 0x116f99bd0>"
      ]
     },
     "metadata": {},
     "output_type": "display_data"
    }
   ],
   "source": [
    "# Running a plot visualization, to determine our outliers\n",
    "\n",
    "\n",
    "g = sns.lmplot('total_payments', 'total_stock_value', \n",
    "           data=df, \n",
    "           fit_reg=False,\n",
    "           hue ='poi')\n",
    "\n",
    "plt.title('Distribution of Top Level Financial Data')\n",
    "plt.xlabel('Total Payments')\n",
    "plt.ylabel('Total Stock Value')\n",
    "\n",
    "g.set(ylim=(0, None))\n",
    "g.set(xlim=(0, None))\n",
    "\n",
    "# https://seaborn.pydata.org/generated/seaborn.lmplot.html"
   ]
  },
  {
   "cell_type": "markdown",
   "metadata": {
    "collapsed": true
   },
   "source": [
    "Based on our graph, we notice some points on the graph that seems suspect. Lets zoom in."
   ]
  },
  {
   "cell_type": "code",
   "execution_count": 22,
   "metadata": {},
   "outputs": [
    {
     "data": {
      "text/html": [
       "<div>\n",
       "<style>\n",
       "    .dataframe thead tr:only-child th {\n",
       "        text-align: right;\n",
       "    }\n",
       "\n",
       "    .dataframe thead th {\n",
       "        text-align: left;\n",
       "    }\n",
       "\n",
       "    .dataframe tbody tr th {\n",
       "        vertical-align: top;\n",
       "    }\n",
       "</style>\n",
       "<table border=\"1\" class=\"dataframe\">\n",
       "  <thead>\n",
       "    <tr style=\"text-align: right;\">\n",
       "      <th></th>\n",
       "      <th>salary</th>\n",
       "      <th>to_messages</th>\n",
       "      <th>deferral_payments</th>\n",
       "      <th>total_payments</th>\n",
       "      <th>exercised_stock_options</th>\n",
       "      <th>bonus</th>\n",
       "      <th>restricted_stock</th>\n",
       "      <th>shared_receipt_with_poi</th>\n",
       "      <th>restricted_stock_deferred</th>\n",
       "      <th>total_stock_value</th>\n",
       "      <th>...</th>\n",
       "      <th>loan_advances</th>\n",
       "      <th>from_messages</th>\n",
       "      <th>other</th>\n",
       "      <th>from_this_person_to_poi</th>\n",
       "      <th>poi</th>\n",
       "      <th>director_fees</th>\n",
       "      <th>deferred_income</th>\n",
       "      <th>long_term_incentive</th>\n",
       "      <th>email_address</th>\n",
       "      <th>from_poi_to_this_person</th>\n",
       "    </tr>\n",
       "  </thead>\n",
       "  <tbody>\n",
       "    <tr>\n",
       "      <th>BHATNAGAR SANJAY</th>\n",
       "      <td>NaN</td>\n",
       "      <td>523.0</td>\n",
       "      <td>NaN</td>\n",
       "      <td>15456290.0</td>\n",
       "      <td>2604490.0</td>\n",
       "      <td>NaN</td>\n",
       "      <td>-2604490.0</td>\n",
       "      <td>463.0</td>\n",
       "      <td>15456290.0</td>\n",
       "      <td>NaN</td>\n",
       "      <td>...</td>\n",
       "      <td>NaN</td>\n",
       "      <td>29.0</td>\n",
       "      <td>137864.0</td>\n",
       "      <td>1.0</td>\n",
       "      <td>False</td>\n",
       "      <td>137864.0</td>\n",
       "      <td>NaN</td>\n",
       "      <td>NaN</td>\n",
       "      <td>sanjay.bhatnagar@enron.com</td>\n",
       "      <td>0.0</td>\n",
       "    </tr>\n",
       "    <tr>\n",
       "      <th>FREVERT MARK A</th>\n",
       "      <td>1060932.0</td>\n",
       "      <td>3275.0</td>\n",
       "      <td>6426990.0</td>\n",
       "      <td>17252530.0</td>\n",
       "      <td>10433518.0</td>\n",
       "      <td>2000000.0</td>\n",
       "      <td>4188667.0</td>\n",
       "      <td>2979.0</td>\n",
       "      <td>NaN</td>\n",
       "      <td>14622185.0</td>\n",
       "      <td>...</td>\n",
       "      <td>2000000.0</td>\n",
       "      <td>21.0</td>\n",
       "      <td>7427621.0</td>\n",
       "      <td>6.0</td>\n",
       "      <td>False</td>\n",
       "      <td>NaN</td>\n",
       "      <td>-3367011.0</td>\n",
       "      <td>1617011.0</td>\n",
       "      <td>mark.frevert@enron.com</td>\n",
       "      <td>242.0</td>\n",
       "    </tr>\n",
       "    <tr>\n",
       "      <th>LAVORATO JOHN J</th>\n",
       "      <td>339288.0</td>\n",
       "      <td>7259.0</td>\n",
       "      <td>NaN</td>\n",
       "      <td>10425757.0</td>\n",
       "      <td>4158995.0</td>\n",
       "      <td>8000000.0</td>\n",
       "      <td>1008149.0</td>\n",
       "      <td>3962.0</td>\n",
       "      <td>NaN</td>\n",
       "      <td>5167144.0</td>\n",
       "      <td>...</td>\n",
       "      <td>NaN</td>\n",
       "      <td>2585.0</td>\n",
       "      <td>1552.0</td>\n",
       "      <td>411.0</td>\n",
       "      <td>False</td>\n",
       "      <td>NaN</td>\n",
       "      <td>NaN</td>\n",
       "      <td>2035380.0</td>\n",
       "      <td>john.lavorato@enron.com</td>\n",
       "      <td>528.0</td>\n",
       "    </tr>\n",
       "    <tr>\n",
       "      <th>LAY KENNETH L</th>\n",
       "      <td>1072321.0</td>\n",
       "      <td>4273.0</td>\n",
       "      <td>202911.0</td>\n",
       "      <td>103559793.0</td>\n",
       "      <td>34348384.0</td>\n",
       "      <td>7000000.0</td>\n",
       "      <td>14761694.0</td>\n",
       "      <td>2411.0</td>\n",
       "      <td>NaN</td>\n",
       "      <td>49110078.0</td>\n",
       "      <td>...</td>\n",
       "      <td>81525000.0</td>\n",
       "      <td>36.0</td>\n",
       "      <td>10359729.0</td>\n",
       "      <td>16.0</td>\n",
       "      <td>True</td>\n",
       "      <td>NaN</td>\n",
       "      <td>-300000.0</td>\n",
       "      <td>3600000.0</td>\n",
       "      <td>kenneth.lay@enron.com</td>\n",
       "      <td>123.0</td>\n",
       "    </tr>\n",
       "    <tr>\n",
       "      <th>TOTAL</th>\n",
       "      <td>26704229.0</td>\n",
       "      <td>NaN</td>\n",
       "      <td>32083396.0</td>\n",
       "      <td>309886585.0</td>\n",
       "      <td>311764000.0</td>\n",
       "      <td>97343619.0</td>\n",
       "      <td>130322299.0</td>\n",
       "      <td>NaN</td>\n",
       "      <td>-7576788.0</td>\n",
       "      <td>434509511.0</td>\n",
       "      <td>...</td>\n",
       "      <td>83925000.0</td>\n",
       "      <td>NaN</td>\n",
       "      <td>42667589.0</td>\n",
       "      <td>NaN</td>\n",
       "      <td>False</td>\n",
       "      <td>1398517.0</td>\n",
       "      <td>-27992891.0</td>\n",
       "      <td>48521928.0</td>\n",
       "      <td>NaN</td>\n",
       "      <td>NaN</td>\n",
       "    </tr>\n",
       "  </tbody>\n",
       "</table>\n",
       "<p>5 rows × 21 columns</p>\n",
       "</div>"
      ],
      "text/plain": [
       "                      salary  to_messages  deferral_payments  total_payments  \\\n",
       "BHATNAGAR SANJAY         NaN        523.0                NaN      15456290.0   \n",
       "FREVERT MARK A     1060932.0       3275.0          6426990.0      17252530.0   \n",
       "LAVORATO JOHN J     339288.0       7259.0                NaN      10425757.0   \n",
       "LAY KENNETH L      1072321.0       4273.0           202911.0     103559793.0   \n",
       "TOTAL             26704229.0          NaN         32083396.0     309886585.0   \n",
       "\n",
       "                  exercised_stock_options       bonus  restricted_stock  \\\n",
       "BHATNAGAR SANJAY                2604490.0         NaN        -2604490.0   \n",
       "FREVERT MARK A                 10433518.0   2000000.0         4188667.0   \n",
       "LAVORATO JOHN J                 4158995.0   8000000.0         1008149.0   \n",
       "LAY KENNETH L                  34348384.0   7000000.0        14761694.0   \n",
       "TOTAL                         311764000.0  97343619.0       130322299.0   \n",
       "\n",
       "                  shared_receipt_with_poi  restricted_stock_deferred  \\\n",
       "BHATNAGAR SANJAY                    463.0                 15456290.0   \n",
       "FREVERT MARK A                     2979.0                        NaN   \n",
       "LAVORATO JOHN J                    3962.0                        NaN   \n",
       "LAY KENNETH L                      2411.0                        NaN   \n",
       "TOTAL                                 NaN                 -7576788.0   \n",
       "\n",
       "                  total_stock_value           ...            loan_advances  \\\n",
       "BHATNAGAR SANJAY                NaN           ...                      NaN   \n",
       "FREVERT MARK A           14622185.0           ...                2000000.0   \n",
       "LAVORATO JOHN J           5167144.0           ...                      NaN   \n",
       "LAY KENNETH L            49110078.0           ...               81525000.0   \n",
       "TOTAL                   434509511.0           ...               83925000.0   \n",
       "\n",
       "                  from_messages       other  from_this_person_to_poi    poi  \\\n",
       "BHATNAGAR SANJAY           29.0    137864.0                      1.0  False   \n",
       "FREVERT MARK A             21.0   7427621.0                      6.0  False   \n",
       "LAVORATO JOHN J          2585.0      1552.0                    411.0  False   \n",
       "LAY KENNETH L              36.0  10359729.0                     16.0   True   \n",
       "TOTAL                       NaN  42667589.0                      NaN  False   \n",
       "\n",
       "                  director_fees  deferred_income  long_term_incentive  \\\n",
       "BHATNAGAR SANJAY       137864.0              NaN                  NaN   \n",
       "FREVERT MARK A              NaN       -3367011.0            1617011.0   \n",
       "LAVORATO JOHN J             NaN              NaN            2035380.0   \n",
       "LAY KENNETH L               NaN        -300000.0            3600000.0   \n",
       "TOTAL                 1398517.0      -27992891.0           48521928.0   \n",
       "\n",
       "                               email_address from_poi_to_this_person  \n",
       "BHATNAGAR SANJAY  sanjay.bhatnagar@enron.com                     0.0  \n",
       "FREVERT MARK A        mark.frevert@enron.com                   242.0  \n",
       "LAVORATO JOHN J      john.lavorato@enron.com                   528.0  \n",
       "LAY KENNETH L          kenneth.lay@enron.com                   123.0  \n",
       "TOTAL                                    NaN                     NaN  \n",
       "\n",
       "[5 rows x 21 columns]"
      ]
     },
     "execution_count": 22,
     "metadata": {},
     "output_type": "execute_result"
    }
   ],
   "source": [
    "# Adding a parameter to zoom in our outliers\n",
    "\n",
    "df[df['total_payments']>10000000]"
   ]
  },
  {
   "cell_type": "code",
   "execution_count": 23,
   "metadata": {},
   "outputs": [
    {
     "data": {
      "text/html": [
       "<div>\n",
       "<style>\n",
       "    .dataframe thead tr:only-child th {\n",
       "        text-align: right;\n",
       "    }\n",
       "\n",
       "    .dataframe thead th {\n",
       "        text-align: left;\n",
       "    }\n",
       "\n",
       "    .dataframe tbody tr th {\n",
       "        vertical-align: top;\n",
       "    }\n",
       "</style>\n",
       "<table border=\"1\" class=\"dataframe\">\n",
       "  <thead>\n",
       "    <tr style=\"text-align: right;\">\n",
       "      <th></th>\n",
       "      <th>ALLEN PHILLIP K</th>\n",
       "      <th>BADUM JAMES P</th>\n",
       "      <th>BANNANTINE JAMES M</th>\n",
       "      <th>BAXTER JOHN C</th>\n",
       "      <th>BAY FRANKLIN R</th>\n",
       "      <th>BAZELIDES PHILIP J</th>\n",
       "      <th>BECK SALLY W</th>\n",
       "      <th>BELDEN TIMOTHY N</th>\n",
       "      <th>BELFER ROBERT</th>\n",
       "      <th>BERBERIAN DAVID</th>\n",
       "      <th>...</th>\n",
       "      <th>long_term_incentive</th>\n",
       "      <th>other</th>\n",
       "      <th>poi</th>\n",
       "      <th>restricted_stock</th>\n",
       "      <th>restricted_stock_deferred</th>\n",
       "      <th>salary</th>\n",
       "      <th>shared_receipt_with_poi</th>\n",
       "      <th>to_messages</th>\n",
       "      <th>total_payments</th>\n",
       "      <th>total_stock_value</th>\n",
       "    </tr>\n",
       "  </thead>\n",
       "  <tbody>\n",
       "    <tr>\n",
       "      <th>LAY KENNETH L</th>\n",
       "      <td>False</td>\n",
       "      <td>False</td>\n",
       "      <td>False</td>\n",
       "      <td>False</td>\n",
       "      <td>False</td>\n",
       "      <td>False</td>\n",
       "      <td>False</td>\n",
       "      <td>False</td>\n",
       "      <td>False</td>\n",
       "      <td>False</td>\n",
       "      <td>...</td>\n",
       "      <td>False</td>\n",
       "      <td>False</td>\n",
       "      <td>False</td>\n",
       "      <td>False</td>\n",
       "      <td>False</td>\n",
       "      <td>False</td>\n",
       "      <td>False</td>\n",
       "      <td>False</td>\n",
       "      <td>False</td>\n",
       "      <td>False</td>\n",
       "    </tr>\n",
       "    <tr>\n",
       "      <th>TOTAL</th>\n",
       "      <td>False</td>\n",
       "      <td>False</td>\n",
       "      <td>False</td>\n",
       "      <td>False</td>\n",
       "      <td>False</td>\n",
       "      <td>False</td>\n",
       "      <td>False</td>\n",
       "      <td>False</td>\n",
       "      <td>False</td>\n",
       "      <td>False</td>\n",
       "      <td>...</td>\n",
       "      <td>False</td>\n",
       "      <td>False</td>\n",
       "      <td>False</td>\n",
       "      <td>False</td>\n",
       "      <td>False</td>\n",
       "      <td>False</td>\n",
       "      <td>False</td>\n",
       "      <td>False</td>\n",
       "      <td>False</td>\n",
       "      <td>False</td>\n",
       "    </tr>\n",
       "  </tbody>\n",
       "</table>\n",
       "<p>2 rows × 167 columns</p>\n",
       "</div>"
      ],
      "text/plain": [
       "               ALLEN PHILLIP K  BADUM JAMES P  BANNANTINE JAMES M  \\\n",
       "LAY KENNETH L            False          False               False   \n",
       "TOTAL                    False          False               False   \n",
       "\n",
       "               BAXTER JOHN C  BAY FRANKLIN R  BAZELIDES PHILIP J  \\\n",
       "LAY KENNETH L          False           False               False   \n",
       "TOTAL                  False           False               False   \n",
       "\n",
       "               BECK SALLY W  BELDEN TIMOTHY N  BELFER ROBERT  BERBERIAN DAVID  \\\n",
       "LAY KENNETH L         False             False          False            False   \n",
       "TOTAL                 False             False          False            False   \n",
       "\n",
       "                     ...          long_term_incentive  other    poi  \\\n",
       "LAY KENNETH L        ...                        False  False  False   \n",
       "TOTAL                ...                        False  False  False   \n",
       "\n",
       "               restricted_stock  restricted_stock_deferred  salary  \\\n",
       "LAY KENNETH L             False                      False   False   \n",
       "TOTAL                     False                      False   False   \n",
       "\n",
       "               shared_receipt_with_poi  to_messages  total_payments  \\\n",
       "LAY KENNETH L                    False        False           False   \n",
       "TOTAL                            False        False           False   \n",
       "\n",
       "               total_stock_value  \n",
       "LAY KENNETH L              False  \n",
       "TOTAL                      False  \n",
       "\n",
       "[2 rows x 167 columns]"
      ]
     },
     "execution_count": 23,
     "metadata": {},
     "output_type": "execute_result"
    }
   ],
   "source": [
    "df['total_payments']> df[df['total_payments']>1e8]"
   ]
  },
  {
   "cell_type": "code",
   "execution_count": 24,
   "metadata": {
    "collapsed": true
   },
   "outputs": [],
   "source": [
    "# Get indexes\n",
    "# df.index.values"
   ]
  },
  {
   "cell_type": "markdown",
   "metadata": {},
   "source": [
    "https://en.wikipedia.org/wiki/Kenneth_Lay\n",
    "\n",
    "Because Kenneth Lay was a central figure in the Enron scandal, it's important that we include it in our dataset. The 'Total' can be removed, because it's the sum of the values for the various individual in the dataset. As we inspected the PDF, we notice a row \"The Travel Agency in the Park\" in the following dataset which does not appear to be an Enron insider. The 'Total' and 'The Travel Agency in the Park' will be removed and replotted. "
   ]
  },
  {
   "cell_type": "code",
   "execution_count": 25,
   "metadata": {},
   "outputs": [
    {
     "data": {
      "text/plain": [
       "<seaborn.axisgrid.FacetGrid at 0x11704f410>"
      ]
     },
     "execution_count": 25,
     "metadata": {},
     "output_type": "execute_result"
    },
    {
     "data": {
      "image/png": "[encoded data removed]",
      "text/plain": [
       "<matplotlib.figure.Figure at 0x11704f690>"
      ]
     },
     "metadata": {},
     "output_type": "display_data"
    }
   ],
   "source": [
    "# Remove outliers and replot\n",
    "\n",
    "df = df.drop(['TOTAL', 'THE TRAVEL AGENCY IN THE PARK'])\n",
    "\n",
    "g = sns.lmplot('total_payments', 'total_stock_value', \n",
    "           data=df, \n",
    "           fit_reg=False,\n",
    "           hue ='poi')\n",
    "\n",
    "plt.title('Distribution of Top Level Financial Data')\n",
    "plt.xlabel('Total Payments')\n",
    "plt.ylabel('Total Stock Value')\n",
    "\n",
    "g.set(xlim=(0, 0.4e8))\n",
    "g.set(ylim=(0, 0.4e8))"
   ]
  },
  {
   "cell_type": "markdown",
   "metadata": {},
   "source": [
    "# Feature Selection\n",
    "\n",
    "Feature selection is selecting a feature which potentially would show some sort of pattern in the prediction analysis. Enron dataset consists two set of features - financial(salary bonuses, stock, etc) and communication(to and from emails). \n",
    "\n",
    "My assumption here is that communication between POI and POI would be more frequent than between POI and non-POIs. I am hoping to build an algorithm which would flag POIs among the population with good precision and recall score. I attempted to create two features, number of emails this person gets from POI(f_from_poi) and number of emails this person sends to POI(f_to_poi).\n",
    "\n",
    "f_from_poi = number of emails this person gets from POI/total number of from messages\n",
    "\n",
    "f_to_poi = number of emails this person sends to POI/total number sent messages\n",
    "\n",
    "If email data is 'NaN', ratio is set to 0."
   ]
  },
  {
   "cell_type": "code",
   "execution_count": 26,
   "metadata": {},
   "outputs": [
    {
     "data": {
      "image/png": "[encoded data removed]",
      "text/plain": [
       "<matplotlib.figure.Figure at 0x1172b6390>"
      ]
     },
     "metadata": {},
     "output_type": "display_data"
    }
   ],
   "source": [
    "#3 create new feature\n",
    "#new features: f_to_poi = number of emails sent to POIs, f_from_poi = number of emails received  from POI\n",
    "\n",
    "def dict_to_list(key,normalizer):\n",
    "    new_list=[]\n",
    "\n",
    "    for i in enronData:\n",
    "        if enronData[i][key]==\"NaN\" or enronData[i][normalizer]==\"NaN\":\n",
    "            new_list.append(0.)\n",
    "        elif enronData[i][key]>=0:\n",
    "            new_list.append(float(enronData[i][key])/float(enronData[i][normalizer]))\n",
    "    return new_list\n",
    "\n",
    "### create two lists of new features\n",
    "f_from_poi = dict_to_list(\"from_poi_to_this_person\",\"to_messages\")\n",
    "f_to_poi = dict_to_list(\"from_this_person_to_poi\",\"from_messages\")\n",
    "\n",
    "### insert new features into enronData\n",
    "count=0\n",
    "for i in enronData:\n",
    "    enronData[i][\"f_from_poi\"]=f_from_poi[count]\n",
    "    enronData[i][\"f_to_poi\"]=f_to_poi[count]\n",
    "    count +=1\n",
    "\n",
    "    \n",
    "features_list = [\"poi\", \"f_from_poi\", \"f_to_poi\"]    \n",
    "    ### store to my_dataset for easy export below\n",
    "my_dataset = enronData\n",
    "\n",
    "\n",
    "### these two lines extract the features specified in features_list\n",
    "### and extract them from enronData, returning a numpy array\n",
    "data = featureFormat(my_dataset, features_list)\n",
    "\n",
    "### plot new features\n",
    "for point in data:\n",
    "    from_poi = point[1]\n",
    "    to_poi = point[2]\n",
    "    plt.scatter( from_poi, to_poi )\n",
    "    if point[0] == 1:\n",
    "        plt.scatter(from_poi, to_poi, color=\"r\", marker=\"*\")\n",
    "plt.xlabel(\"fraction of emails this person gets from poi\")\n",
    "plt.show()\n"
   ]
  },
  {
   "cell_type": "code",
   "execution_count": 27,
   "metadata": {},
   "outputs": [
    {
     "name": "stdout",
     "output_type": "stream",
     "text": [
      "['poi', 'f_from_poi', 'f_to_poi']\n"
     ]
    }
   ],
   "source": [
    "print features_list"
   ]
  },
  {
   "cell_type": "markdown",
   "metadata": {},
   "source": [
    "# Feature Engineering\n",
    "\n",
    "This is the process where, we select and keep only impactful features in our dataset which contribute maximum information to the prediction variable. We do not want features which do not provide decent information. Having irrelevant features in our data decreases accuracy and quality of analysis. Univariate feature selection works by selecting the best features based on univariate statistical tests. SelectKBest removes all but the k highest scoring features. Here I used SelectKBest to see high scoring features.\n",
    "\n",
    "Secondly, I used feature importance attribute of decision tree and this helped me to select features which would give me maximum precision and recall scores. I also used manual feature selection process where I tried adding each features one by one and calculated precision and recall scores. More importantly it was very interesting to see that features including 'shared_receipt_with_poi',\"exercised_stock_options\" significantly increased precision and recall scores irrespective of the fact that they are not the top features in the selectKBest scores. Hence, features selected from this step were [\"f_from_poi\", \"f_to_poi\",\"shared_receipt_with_poi\",\"exercised_stock_options\"]."
   ]
  },
  {
   "cell_type": "code",
   "execution_count": 34,
   "metadata": {},
   "outputs": [
    {
     "name": "stdout",
     "output_type": "stream",
     "text": [
      "selectKBest scores ranking: \n",
      "1 feature salary (4.17424818808)\n",
      "2 feature bonus (2.47526799584)\n",
      "3 feature f_from_poi (1.14486649754)\n",
      "4 feature f_to_poi (0.940272361115)\n",
      "5 feature deferral_payments (0.337329786625)\n",
      "6 feature total_payments (0.255505343107)\n",
      "7 feature loan_advances (0.203646885336)\n",
      "8 feature restricted_stock_deferred (0.198225231446)\n",
      "9 feature deferred_income (0.193731697928)\n",
      "10 feature total_stock_value (0.16482094858)\n",
      "11 feature expenses (0.107627134646)\n",
      "12 feature exercised_stock_options (0.0656280674818)\n",
      "13 feature long_term_incentive (0.0546846481247)\n",
      "14 feature shared_receipt_with_poi (0.0428473264338)\n",
      "15 feature restricted_stock (0.0229248896842)\n",
      "16 feature director_fees (0.00439829493019)\n",
      "Feature importance Ranking: \n",
      "1 feature salary (0.255056834004)\n",
      "2 feature bonus (0.232918904311)\n",
      "3 feature f_from_poi (0.140117302112)\n",
      "4 feature f_to_poi (0.101025132275)\n",
      "5 feature deferral_payments (0.0974911747407)\n",
      "6 feature total_payments (0.077380952381)\n",
      "7 feature loan_advances (0.0537367724868)\n",
      "8 feature restricted_stock_deferred (0.0322420634921)\n",
      "9 feature deferred_income (0.0100308641975)\n",
      "10 feature total_stock_value (0.0)\n",
      "11 feature expenses (0.0)\n",
      "12 feature exercised_stock_options (0.0)\n",
      "13 feature long_term_incentive (0.0)\n",
      "14 feature shared_receipt_with_poi (0.0)\n"
     ]
    }
   ],
   "source": [
    "from sklearn.feature_selection import SelectKBest, f_classif\n",
    "features_list = [\"poi\", \"salary\", \"bonus\", \"f_from_poi\", \"f_to_poi\",\n",
    "                 'deferral_payments', 'total_payments', 'loan_advances', 'restricted_stock_deferred',\n",
    "                 'deferred_income', 'total_stock_value', 'expenses', 'exercised_stock_options',\n",
    "                 'long_term_incentive', 'shared_receipt_with_poi', 'restricted_stock', 'director_fees']\n",
    "data = featureFormat(my_dataset, features_list)\n",
    "\n",
    "### split into labels and features (this line assumes that the first\n",
    "### feature in the array is the label, which is why \"poi\" must always\n",
    "### be first in features_list\n",
    "labels, features = targetFeatureSplit(data)\n",
    "\n",
    "### split data into training and testing datasets\n",
    "#deploying feature selection\n",
    "## used selectkbest and feature importance attribute of decision tree\n",
    "\n",
    "selector = SelectKBest(f_classif, k=5)\n",
    "selector.fit(features, labels)\n",
    "\n",
    "# Get the raw p-values for each feature, and transform from p-values into scores\n",
    "scores = -np.log10(selector.pvalues_)\n",
    "indices = np.argsort(scores)[::-1]\n",
    "print 'selectKBest scores ranking: '\n",
    "for i in range(16):\n",
    "    print \"{} feature {} ({})\".format(i+1,features_list[i+1],scores[indices[i]])\n",
    "\n",
    "\n",
    "from sklearn import cross_validation\n",
    "features_train, features_test, labels_train, labels_test = cross_validation.train_test_split(features, labels, test_size=0.1, random_state=42)\n",
    "\n",
    "    \n",
    "from sklearn.tree import DecisionTreeClassifier\n",
    "clf = DecisionTreeClassifier()\n",
    "clf.fit(features_train,labels_train)\n",
    "\n",
    "importances = clf.feature_importances_\n",
    "import numpy as np\n",
    "indices = np.argsort(importances)[::-1]\n",
    "print 'Feature importance Ranking: '\n",
    "for i in range(14):\n",
    "    print \"{} feature {} ({})\".format(i+1,features_list[i+1],importances[indices[i]])"
   ]
  },
  {
   "cell_type": "markdown",
   "metadata": {},
   "source": [
    "# Algorithm Selection and Tuning\n",
    "\n"
   ]
  },
  {
   "cell_type": "code",
   "execution_count": 29,
   "metadata": {},
   "outputs": [
    {
     "name": "stdout",
     "output_type": "stream",
     "text": [
      "NAIVE BAYES:\n",
      "Naive Bayes recall score: 0.0\n",
      "Naive Bayes precision score: 0.0\n",
      "accuracy: 0.266666666667\n",
      "NB algorithm time: 0.006 s\n",
      "ADABOOST:\n",
      "0.933333333333\n",
      "AB Recall Score: 0.0\n",
      "AB Precision Score: 0.0\n",
      "DECISION TREE: \n",
      "Decision tree algorithm time: 0.002 s\n",
      "accuracy: 0.866666666667\n",
      "recall score: 0.0\n",
      "precision score: 0.0\n"
     ]
    }
   ],
   "source": [
    "features_list = [\"poi\", \"exercised_stock_options\",  \"f_from_poi\", \"f_to_poi\", \"shared_receipt_with_poi\"]\n",
    "\n",
    "\n",
    "##try Naive Bayes\n",
    "from time import time\n",
    "from sklearn.naive_bayes import GaussianNB\n",
    "from sklearn.metrics import recall_score\n",
    "from sklearn.metrics import precision_score\n",
    "from sklearn.metrics import accuracy_score\n",
    "\n",
    "t0 = time()\n",
    "clf = GaussianNB()\n",
    "clf.fit(features_train, labels_train)\n",
    "pred = clf.predict(features_test)\n",
    "print \"NAIVE BAYES:\"\n",
    "print \"Naive Bayes recall score:\", (recall_score(labels_test,pred))\n",
    "print \"Naive Bayes precision score:\", (precision_score(labels_test,pred))\n",
    "#print accuracy #(clf.score(features_test, labels_test))\n",
    "accuracy = accuracy_score(pred,labels_test)\n",
    "print 'accuracy:', accuracy\n",
    "print \"NB algorithm time:\", round(time()-t0, 3), 's'\n",
    "\n",
    "\n",
    "\n",
    "###Adaboost\n",
    "from sklearn.ensemble import AdaBoostClassifier\n",
    "clf = AdaBoostClassifier(DecisionTreeClassifier(min_samples_split = 40),\n",
    "                         algorithm=\"SAMME\",\n",
    "                         n_estimators=200)\n",
    "clf.fit(features_train,labels_train)\n",
    "pred = clf.predict(features_test)\n",
    "\n",
    "acc =  accuracy_score(pred,labels_test)\n",
    "print \"ADABOOST:\"\n",
    "print acc\n",
    "print \"AB Recall Score:\", str(recall_score(labels_test, pred))\n",
    "print \"AB Precision Score:\", str(precision_score(labels_test, pred))\n",
    "\n",
    "\n",
    "##try Decision tree \n",
    "from sklearn.tree import DecisionTreeClassifier\n",
    "\n",
    "t0 = time()\n",
    "\n",
    "clf = DecisionTreeClassifier()\n",
    "clf.fit(features_train,labels_train)\n",
    "score = clf.score(features_test,labels_test)\n",
    "print'DECISION TREE: ' \n",
    "print \"Decision tree algorithm time:\", round(time()-t0, 3), \"s\"\n",
    "print 'accuracy:',(score)\n",
    "print 'recall score:', (recall_score(labels_test,pred))\n",
    "print 'precision score:', (precision_score(labels_test,pred))"
   ]
  },
  {
   "cell_type": "markdown",
   "metadata": {},
   "source": [
    "What algorithm did you end up using? What other one(s) did you try? How did model performance differ between algorithms?\n",
    "What does it mean to tune the parameters of an algorithm, and what can happen if you don’t do this well? How did you tune the parameters of your particular algorithm? What parameters did you tune?\n",
    "\n",
    "\n",
    "I chose decision tree as a final algorithm. Algorithm performance can be measured in a variety of ways, e.g. accuracy, precision, or recall. Since there were few POI subjects in this dataset, precision and recall score were considered better evaluater than accuracy. Naive Bayes, decision tree and adaboost algorithms were tried using four best features. Adaboost and Naive Bayes showed recall score of less than 0.3. Decision tree is more efficient in finding irregular decision boundaries and does not need feature scaling as splitting of the data is based on a threshold value.\n",
    "\n",
    "Parameter tuning means the adjustment of parameters in a certain way that it helps in better performance of algorithm. If parameter is not tuned algorithm may not perform well. In general algorithms are not specifically tuned to any dataset.\n",
    "\n",
    "In parametere tuning process, we need to evaluate and validate our data for each different combination of selected parameters and see how well the algorithm performs until we are satisfied with. If algorithm is not tuned well, it won't be trained well and it would not be able to make predictions on the unseen data. Here, to optimize its performance, parameters min_sample_split was varied manually and performance evaluated. We found algorithm performed well when min_sample_split was kept 3."
   ]
  },
  {
   "cell_type": "markdown",
   "metadata": {},
   "source": [
    "# Final Algorithm Selection"
   ]
  },
  {
   "cell_type": "code",
   "execution_count": 30,
   "metadata": {},
   "outputs": [
    {
     "name": "stdout",
     "output_type": "stream",
     "text": [
      "done in 0.002s\n",
      "Validating algorithm:\n",
      "accuracy after tuning =  0.933333333333\n",
      "precision =  0.0\n",
      "recall =  0.0\n"
     ]
    }
   ],
   "source": [
    "\n",
    "### use manual tuning parameter min_samples_split\n",
    "from sklearn.tree import DecisionTreeClassifier\n",
    "t0 = time()\n",
    "clf = DecisionTreeClassifier(min_samples_split = 3)\n",
    "clf = clf.fit(features_train,labels_train)\n",
    "pred= clf.predict(features_test)\n",
    "print(\"done in %0.3fs\" % (time() - t0))\n",
    "\n",
    "acc=accuracy_score(labels_test, pred)\n",
    "\n",
    "print \"Validating algorithm:\"\n",
    "print \"accuracy after tuning = \", acc\n",
    "\n",
    "# function for calculation ratio of true positives\n",
    "# out of all positives (true + false)\n",
    "print 'precision = ', precision_score(labels_test,pred)\n",
    "\n",
    "# function for calculation ratio of true positives\n",
    "# out of true positives and false negatives\n",
    "print 'recall = ', recall_score(labels_test,pred)\n",
    "\n",
    "### dump your classifier, dataset and features_list so\n",
    "### anyone can run/check your results\n",
    "pickle.dump(clf, open(\"my_classifier.pkl\", \"w\") )\n",
    "pickle.dump(enronData, open(\"my_dataset.pkl\", \"w\") )\n",
    "pickle.dump(features_list, open(\"my_feature_list.pkl\", \"w\") )"
   ]
  },
  {
   "cell_type": "markdown",
   "metadata": {},
   "source": [
    "# Analysis Validation and Performance"
   ]
  },
  {
   "cell_type": "markdown",
   "metadata": {},
   "source": [
    "Analysis Validation and Performance\n",
    "What is validation, and what’s a classic mistake you can make if you do it wrong? How did you validate your analysis?\n",
    "Validation is the process where we determine the robustness of our predictive models, i.e.,to test how well our model is trained.\n",
    "\n",
    "A classic mistake in validation process is called over-fitting, where the model is trained and performs too good on the training dataset, but is actually worse on the cross-validation and test datasets. Besides, also if algorithm is tested in the same dataset as it was trained on it would give very high performance.\n",
    "\n",
    "I used k-fold cross-validation. K-fold cross-validation method randomly divides the dataset into a test and training set k different times and let you decide how many trials to average at the end. You can also independently choose how large each test set is. In each trial, one of the k subsets is used as the test set and the other k-1 subsets are used as a training set."
   ]
  },
  {
   "cell_type": "code",
   "execution_count": null,
   "metadata": {
    "collapsed": true
   },
   "outputs": [],
   "source": [
    "### features_list is a list of strings, each of which is a feature name\n",
    "### first feature must be \"poi\", as this will be singled out as the label\n",
    "features_list = [\"poi\", \"exercised_stock_options\", \"f_from_poi\", \"f_to_poi\", \"shared_receipt_with_poi\"]\n",
    "\n",
    "\n",
    "### store to my_dataset for easy export below\n",
    "my_dataset = enronData\n",
    "\n",
    "\n",
    "### these two lines extract the features specified in features_list\n",
    "### and extract them from enronData, returning a numpy array\n",
    "data = featureFormat(my_dataset, features_list)\n",
    "\n",
    "\n",
    "### split into labels and features (this line assumes that the first\n",
    "### feature in the array is the label, which is why \"poi\" must always\n",
    "### be first in features_list\n",
    "labels, features = targetFeatureSplit(data)\n",
    "\n",
    "\n",
    "### machine learning goes here!\n",
    "### please name your classifier clf for easy export below\n",
    "\n",
    "### deploying feature selection\n",
    "from sklearn import cross_validation\n",
    "features_train, features_test, labels_train, labels_test = cross_validation.train_test_split(features, labels, test_size=0.1, random_state=42)\n",
    "\n",
    "        \n",
    "        \n",
    "### use KFold for split and validate algorithm\n",
    "from sklearn.cross_validation import KFold\n",
    "kf=KFold(len(labels),3)\n",
    "for train_indices, test_indices in kf:\n",
    "    #make training and testing sets\n",
    "    features_train= [features[ii] for ii in train_indices]\n",
    "    features_test= [features[ii] for ii in test_indices]\n",
    "    labels_train=[labels[ii] for ii in train_indices]\n",
    "    labels_test=[labels[ii] for ii in test_indices]        \n",
    "\n",
    "\n",
    "\n",
    "from sklearn.tree import DecisionTreeClassifier\n",
    "\n",
    "t0 = time()\n",
    "\n",
    "clf = DecisionTreeClassifier()\n",
    "clf.fit(features_train,labels_train)\n",
    "score = clf.score(features_test,labels_test)\n",
    "print 'accuracy before tuning ', score\n",
    "\n",
    "print \"Decision tree algorithm time:\", round(time()-t0, 3), \"s\"\n",
    "\n",
    "\n",
    "### use manual tuning parameter min_samples_split\n",
    "t0 = time()\n",
    "clf = DecisionTreeClassifier(min_samples_split = 3)\n",
    "clf = clf.fit(features_train,labels_train)\n",
    "pred= clf.predict(features_test)\n",
    "print(\"done in %0.3fs\" % (time() - t0))\n",
    "\n",
    "acc=accuracy_score(labels_test, pred)\n",
    "\n",
    "print \"Validating algorithm:\"\n",
    "print \"accuracy after tuning = \", acc\n",
    "\n",
    "# function for calculation ratio of true positives\n",
    "# out of all positives (true + false)\n",
    "print 'precision = ', precision_score(labels_test,pred)\n",
    "\n",
    "# function for calculation ratio of true positives\n",
    "# out of true positives and false negatives\n",
    "print 'recall = ', recall_score(labels_test,pred)\n",
    "\n",
    "\n",
    "### dump your classifier, dataset and features_list so\n",
    "### anyone can run/check your results\n",
    "pickle.dump(clf, open(\"my_classifier.pkl\", \"w\") )\n",
    "pickle.dump(enronData, open(\"my_dataset.pkl\", \"w\") )\n",
    "pickle.dump(features_list, open(\"my_feature_list.pkl\", \"w\") )"
   ]
  },
  {
   "cell_type": "code",
   "execution_count": 32,
   "metadata": {},
   "outputs": [
    {
     "name": "stdout",
     "output_type": "stream",
     "text": [
      "Number of observations: 121\n"
     ]
    }
   ],
   "source": [
    "data = featureFormat(my_dataset, features_list, sort_keys = True)\n",
    "print \"Number of observations: {}\".format(len(features))"
   ]
  },
  {
   "cell_type": "markdown",
   "metadata": {},
   "source": [
    "# Conclusion"
   ]
  },
  {
   "cell_type": "markdown",
   "metadata": {},
   "source": [
    "Give at least 2 evaluation metrics and your average performance for each of them. Explain an interpretation of your metrics that says something human-understandable about your algorithm’s performance.\n",
    "I chose Decision Tree as a final algorithm to build a model to predict POIs from the population. In this case we used precision and recall as a measure of model performance. A good precision means if a person is identified as POI in the test will infact be POI. Low precision score can give false positive results which means innocent people can be flagged as POI.\n",
    "\n",
    "If the precision score = 0.5, it means 50 percent of POI identified in the test would be the real POI whereas 50% of the time this test could flag a non POI. A good recall means relevant subjects from the population are all identified. If the recall score = 0.4, it means 60 percent of POI will go unidentified. In our case of POI identifier, it is more important to not miss any POIs than to flag non-POIs. So we prefer high recall. Decision tree performed best with the recall of 0.4 and precision value of 0.5. \n",
    "\n",
    "However, On checking the performance of my algorithm in tester.py's cross validation I got precision and recall of 0.418 and 0.31550 respectively."
   ]
  },
  {
   "cell_type": "markdown",
   "metadata": {},
   "source": [
    "The work in this notebook provided the steps for generating an Enron POI machine learning classifer. The data was analysed and cleaned and a new synthetic features were added. The data was then formatted for machine learning algorithms. A number of algorithms were tested and ultimately a decision tree classifier (DTC) was optimized using grid search cross validation. We were unable to achieve the desirable outcome after tuning our parameters, however, our desirable outcome was achieved without fine tuning our decision tree paramenters."
   ]
  },
  {
   "cell_type": "markdown",
   "metadata": {
    "collapsed": true
   },
   "source": [
    "#### References\n"
   ]
  },
  {
   "cell_type": "markdown",
   "metadata": {},
   "source": [
    "Udacity Tutorial - https://classroom.udacity.com/nanodegrees/nd002/parts/0021345409/modules/317428862475460/lessons/2258728540/concepts/24032586940923\n",
    "\n",
    "Udacity Forum - https://discussions.udacity.com/t/how-to-go-about-p5/259206/25\n",
    "\n",
    "Udacity Mentor - GEORGE ZHONGYUE\n"
   ]
  },
  {
   "cell_type": "code",
   "execution_count": null,
   "metadata": {
    "collapsed": true
   },
   "outputs": [],
   "source": []
  }
 ],
 "metadata": {
  "kernelspec": {
   "display_name": "Python [conda env:py2]",
   "language": "python",
   "name": "conda-env-py2-py"
  },
  "language_info": {
   "codemirror_mode": {
    "name": "ipython",
    "version": 2
   },
   "file_extension": ".py",
   "mimetype": "text/x-python",
   "name": "python",
   "nbconvert_exporter": "python",
   "pygments_lexer": "ipython2",
   "version": "2.7.13"
  }
 },
 "nbformat": 4,
 "nbformat_minor": 2
}
